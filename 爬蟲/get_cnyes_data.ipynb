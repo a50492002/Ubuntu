{
 "cells": [
  {
   "cell_type": "code",
   "execution_count": 17,
   "metadata": {},
   "outputs": [],
   "source": [
    "import requests\n",
    "import json\n",
    "import pandas as pd\n",
    "import time\n",
    "import twstock\n",
    "import pymysql"
   ]
  },
  {
   "cell_type": "code",
   "execution_count": 18,
   "metadata": {},
   "outputs": [],
   "source": [
    "conn=pymysql.connect(host='localhost',  # 主機位置\n",
    "                       user='rock',       # 使用者帳號\n",
    "                       password='A108-426a',   # 使用者密碼\n",
    "                       db='Airocks',    # 資料庫名稱\n",
    "                       port=3306,         # 連接阜\n",
    "                       charset='utf8')    # 使用編碼\n",
    "\n",
    "cursor = conn.cursor()"
   ]
  },
  {
   "cell_type": "code",
   "execution_count": 19,
   "metadata": {},
   "outputs": [],
   "source": [
    "twses = twstock.twse\n",
    "twses_data = pd.DataFrame()\n",
    "\n",
    "for key in twses:\n",
    "    data = twses[key]\n",
    "    if data.CFI == 'ESVUFR':\n",
    "        twselist = [data.name, data.code, data.ISIN, data.start, data.market, data.group, data.CFI]\n",
    "        df = pd.DataFrame([twselist],columns=['name', 'code','ISIN','start','market','group','CFI'])\n",
    "        twses_data=pd.concat([twses_data,df],axis=0,ignore_index=True)"
   ]
  },
  {
   "cell_type": "code",
   "execution_count": 20,
   "metadata": {},
   "outputs": [],
   "source": [
    "uids=twses_data.code.tolist()"
   ]
  },
  {
   "cell_type": "code",
   "execution_count": 21,
   "metadata": {},
   "outputs": [],
   "source": [
    "stock=pd.DataFrame()\n",
    "\n",
    "for uid in uids:\n",
    "    url='https://ws.api.cnyes.com/ws/api/v1/charting/history?resolution=D&symbol=TWS:'+uid+':STOCK&from=1606694400&to=1290902400'\n",
    "    r=requests.get(url)\n",
    "    wdata=r.json()['data']\n",
    "    wdata.pop('s')\n",
    "    wdata.pop('quote')\n",
    "    wdata.pop('session')\n",
    "    wdata.pop('nextTime')\n",
    "    colname={\n",
    "        't':'time',\n",
    "        'o':'open',\n",
    "        'h':'high',\n",
    "        'l':'low',\n",
    "        'c':'close',\n",
    "        'v':'volume',\n",
    "    }\n",
    "    df=pd.DataFrame.from_dict(wdata)\n",
    "    df=df.rename(columns=colname,inplace=False)\n",
    "    df['time']=df['time'].apply(lambda x : time.strftime(\"%Y-%m-%d\", time.localtime(x)))\n",
    "    print(len(df))\n",
    "    sql = \"INSERT INTO Stocks_data(`StocksId`, `Date`, `Open`, `High`, `Low`, `Close`, `Volume`) VALUES \"\n",
    "    for i in range(len(df)):\n",
    "        data = df.loc[i]\n",
    "        if df.loc[0]['time'] != data['time']:\n",
    "            sql+=','\n",
    "        sql+=\"('%s', '%s', '%f', '%f', '%f', '%f', '%f')\" % (uid, data['time'], data['open'], data['high'], data['low'], data['close'], data['volume'])    \n",
    "    try:\n",
    "        # 輸入 SQL指令\n",
    "        cursor.execute(sql)\n",
    "        # 執行 SQL指令\n",
    "        conn.commit()\n",
    "        print(uid+' Sccess!!')\n",
    "    except:\n",
    "        # 錯誤時重新執行\n",
    "        conn.rollback()"
   ]
  },
  {
   "cell_type": "code",
   "execution_count": null,
   "metadata": {},
   "outputs": [],
   "source": []
  }
 ],
 "metadata": {
  "kernelspec": {
   "display_name": "catcher",
   "language": "python",
   "name": "catcher"
  },
  "language_info": {
   "codemirror_mode": {
    "name": "ipython",
    "version": 3
   },
   "file_extension": ".py",
   "mimetype": "text/x-python",
   "name": "python",
   "nbconvert_exporter": "python",
   "pygments_lexer": "ipython3",
   "version": "3.8.5"
  }
 },
 "nbformat": 4,
 "nbformat_minor": 4
}
