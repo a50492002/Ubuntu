{
 "cells": [
  {
   "cell_type": "code",
   "execution_count": 1,
   "metadata": {},
   "outputs": [],
   "source": [
    "import requests\n",
    "import json\n",
    "import pandas as pd\n",
    "import time\n",
    "import pymysql"
   ]
  },
  {
   "cell_type": "code",
   "execution_count": 3,
   "metadata": {},
   "outputs": [
    {
     "data": {
      "text/plain": [
       "('2020-12-04', 503.0, 503.0, 503.0, 503.0, 4498.0)"
      ]
     },
     "execution_count": 3,
     "metadata": {},
     "output_type": "execute_result"
    }
   ],
   "source": [
    "url='https://ws.api.cnyes.com/ws/api/v1/charting/history?symbol=TWS:2330:STOCK&resolution=1&quote=1'\n",
    "r=requests.get(url)\n",
    "wdata=r.json()['data']\n",
    "\n",
    "time = time.strftime(\"%Y-%m-%d\", time.localtime(wdata.pop('t')[0]))\n",
    "open_ = wdata.pop('o')[0]\n",
    "high = wdata.pop('h')[0]\n",
    "low = wdata.pop('l')[0]\n",
    "close = wdata.pop('c')[0]\n",
    "volume = wdata.pop('v')[0]\n",
    "\n",
    "time,open_,high,low,close,volume"
   ]
  },
  {
   "cell_type": "code",
   "execution_count": null,
   "metadata": {},
   "outputs": [],
   "source": [
    "\n",
    "sql = \"INSERT INTO Stocks_data(`StocksId`, `Date`, `Open`, `High`, `Low`, `Close`, `Volume`) VALUES \"\n",
    "for i in range(len(df)):\n",
    "    data = df.loc[i]\n",
    "    if df.loc[0]['time'] != data['time']:\n",
    "        sql+=','\n",
    "    sql+=\"('%s', '%s', '%f', '%f', '%f', '%f', '%f')\" % (uid, data['time'], data['open'], data['high'], data['low'], data['close'], data['volume'])    \n",
    "try:\n",
    "    # 輸入 SQL指令\n",
    "    cursor.execute(sql)\n",
    "    # 執行 SQL指令\n",
    "    conn.commit()\n",
    "    print(uid+' Sccess!!')\n",
    "except:\n",
    "    # 錯誤時重新執行\n",
    "    conn.rollback()"
   ]
  },
  {
   "cell_type": "code",
   "execution_count": null,
   "metadata": {},
   "outputs": [],
   "source": []
  },
  {
   "cell_type": "code",
   "execution_count": null,
   "metadata": {},
   "outputs": [],
   "source": [
    "try:\n",
    "    # 輸入 SQL指令\n",
    "    cursor.execute(sql)\n",
    "    # 執行 SQL指令\n",
    "    conn.commit()\n",
    "except:\n",
    "    # 錯誤時重新執行\n",
    "    conn.rollback()"
   ]
  },
  {
   "cell_type": "code",
   "execution_count": null,
   "metadata": {},
   "outputs": [],
   "source": [
    "https://ws.api.cnyes.com/ws/api/v1/charting/history?symbol=TWS:2330:STOCK&resolution=1&quote=1"
   ]
  },
  {
   "cell_type": "code",
   "execution_count": null,
   "metadata": {},
   "outputs": [],
   "source": []
  }
 ],
 "metadata": {
  "kernelspec": {
   "display_name": "catcher",
   "language": "python",
   "name": "catcher"
  },
  "language_info": {
   "codemirror_mode": {
    "name": "ipython",
    "version": 3
   },
   "file_extension": ".py",
   "mimetype": "text/x-python",
   "name": "python",
   "nbconvert_exporter": "python",
   "pygments_lexer": "ipython3",
   "version": "3.8.5"
  }
 },
 "nbformat": 4,
 "nbformat_minor": 4
}
